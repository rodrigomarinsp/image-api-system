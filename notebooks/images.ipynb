{
 "cells": [
  {
   "cell_type": "markdown",
   "metadata": {},
   "source": [
    "# API de Gerenciamento de Imagens - Teste com Usuário Mock Personalizado\n",
    "\n",
    "Este notebook permite testar a API de imagens com um usuário mock personalizado, resolvendo problemas de integridade referencial relacionados ao team_id."
   ]
  },
  {
   "cell_type": "code",
   "execution_count": 12,
   "metadata": {},
   "outputs": [],
   "source": [
    "\n",
    "\n",
    "\n",
    "\n",
    "# Importação das bibliotecas necessárias\n",
    "import requests\n",
    "import json\n",
    "import uuid\n",
    "import io\n",
    "import os\n",
    "from IPython.display import display, HTML\n",
    "from PIL import Image as PILImage\n",
    "import base64\n",
    "import re"
   ]
  },
  {
   "cell_type": "code",
   "execution_count": null,
   "metadata": {},
   "outputs": [],
   "source": []
  },
  {
   "cell_type": "code",
   "execution_count": 13,
   "metadata": {},
   "outputs": [],
   "source": [
    "# Configuração base da API\n",
    "BASE_URL = \"http://localhost:8080\"  # Ajuste conforme necessário\n",
    "API_KEY = \"imapi_demo_key_for_testing_purposes_only\"  # Ajuste conforme necessário\n",
    "\n",
    "# Configuração para substituir o mock user\n",
    "# IMPORTANTE: Substitua este team_id por um que existe no banco de dados!\n",
    "MOCK_CONFIG = {\n",
    "    \"username\": \"daniel.schulz_computer_vision_team\",\n",
    "    \"email\": \"daniel.schulz_computer_vision_team@sereact-ai.com\",\n",
    "    \"team_id\": \"2e07cc40-68e2-40cc-b686-cb05dce6c408\",\n",
    "    \"id\": \"37c9e956-3105-4846-bc81-261eb6094d2c\",\n",
    "    \"created_at\": \"2025-05-30T20:27:00.608435+00:00\",\n",
    "}"
   ]
  },
  {
   "cell_type": "code",
   "execution_count": null,
   "metadata": {},
   "outputs": [],
   "source": []
  },
  {
   "cell_type": "markdown",
   "metadata": {},
   "source": [
    "## 3. Funções de Suporte para Chamadas à API"
   ]
  },
  {
   "cell_type": "code",
   "execution_count": 14,
   "metadata": {},
   "outputs": [],
   "source": [
    "def make_api_request(method, endpoint, headers=None, params=None, json_data=None, files=None, data=None):\n",
    "    \"\"\"Função base para fazer requisições à API, aplicando o mock user\"\"\"\n",
    "    url = f\"{BASE_URL}{endpoint}\"\n",
    "    \n",
    "    # Preparar cabeçalhos com autenticação e x-mock-user\n",
    "    if headers is None:\n",
    "        headers = {}\n",
    "    \n",
    "    # Adicionar chave de API se não estiver presente\n",
    "    if \"Authorization\" not in headers:\n",
    "        headers[\"Authorization\"] = API_KEY\n",
    "    \n",
    "    # Adicionar mock user configuration\n",
    "    mock_header = base64.b64encode(json.dumps(MOCK_CONFIG).encode()).decode()\n",
    "    headers[\"X-Mock-User\"] = mock_header\n",
    "    \n",
    "    # Se estamos enviando dados de formulário, adicionar team_id explicitamente\n",
    "    if data is None:\n",
    "        data = {}\n",
    "    \n",
    "    # Adicionar o team_id explicitamente nos dados\n",
    "    data[\"team_id\"] = MOCK_CONFIG[\"team_id\"]\n",
    "    \n",
    "    print(f\"Requisição: {method} {url}\")\n",
    "    print(f\"Usando mock user: {MOCK_CONFIG['username']} (Team ID: {MOCK_CONFIG['team_id']})\")\n",
    "    \n",
    "    # Fazer a requisição\n",
    "    response = requests.request(\n",
    "        method=method,\n",
    "        url=url,\n",
    "        headers=headers,\n",
    "        params=params,\n",
    "        json=json_data,\n",
    "        files=files,\n",
    "        data=data\n",
    "    )\n",
    "    \n",
    "    print(f\"Status: {response.status_code}\")\n",
    "    \n",
    "    # Tentar analisar a resposta como JSON\n",
    "    try:\n",
    "        result = response.json()\n",
    "        print(\"Resposta:\")\n",
    "        print(json.dumps(result, indent=2)[:500])\n",
    "        if len(json.dumps(result, indent=2)) > 500:\n",
    "            print(\"... (truncado)\")\n",
    "        return result\n",
    "    except:\n",
    "        # Não é JSON, retorna o texto\n",
    "        print(f\"Resposta (não JSON):\\n{response.text[:200]}\")\n",
    "        if len(response.text) > 200:\n",
    "            print(\"... (truncado)\")\n",
    "        return response.text"
   ]
  },
  {
   "cell_type": "markdown",
   "metadata": {},
   "source": [
    "## 5. Criar Função de Upload de Imagem com Mock User"
   ]
  },
  {
   "cell_type": "code",
   "execution_count": 17,
   "metadata": {},
   "outputs": [],
   "source": [
    "def create_test_image(color, width=300, height=200):\n",
    "    \"\"\"Cria uma imagem de teste com cor sólida\"\"\"\n",
    "    if color == \"red\":\n",
    "        rgb = (255, 0, 0)\n",
    "    elif color == \"green\":\n",
    "        rgb = (0, 255, 0)\n",
    "    elif color == \"blue\":\n",
    "        rgb = (0, 0, 255)\n",
    "    else:\n",
    "        rgb = (128, 128, 128)  # cinza\n",
    "    \n",
    "    # Criar imagem\n",
    "    img = PILImage.new('RGB', (width, height), rgb)\n",
    "    img_byte_arr = io.BytesIO()\n",
    "    img.save(img_byte_arr, format='JPEG')\n",
    "    img_byte_arr.seek(0)\n",
    "    return img_byte_arr\n",
    "\n",
    "def upload_image_with_mock_user(color=\"red\", description=\"Test image\", tags=\"test,mock,user\"):\n",
    "    \"\"\"Faz upload de uma imagem usando o mock user configurado\"\"\"\n",
    "    # Criar imagem de teste\n",
    "    img_bytes = create_test_image(color)\n",
    "    \n",
    "    # Preparar arquivo para upload\n",
    "    files = {\n",
    "        'file': (f\"{color}_test.jpg\", img_bytes.getvalue(), 'image/jpeg')\n",
    "    }\n",
    "    \n",
    "    # Dados de formulário\n",
    "    data = {\n",
    "        'description': description,\n",
    "        'tags': tags,\n",
    "        'alt_text': f\"Uma imagem de teste {color}\",\n",
    "        'team_id': MOCK_CONFIG['team_id']  # Importante: incluir team_id explicitamente\n",
    "    }\n",
    "    \n",
    "    # Fazer upload\n",
    "    result = make_api_request(\"POST\", \"/api/v1/images\", files=files, data=data)\n",
    "    \n",
    "    # Exibir a imagem se houver URL de acesso\n",
    "    if isinstance(result, dict) and \"access_url\" in result:\n",
    "        print(\"\\nImagem:\")\n",
    "        display(HTML(f'<img src=\"{result[\"access_url\"]}\" width=\"300\" />'))\n",
    "    \n",
    "    return result"
   ]
  },
  {
   "cell_type": "markdown",
   "metadata": {},
   "source": [
    "## 6. Atualizar Configuração do Mock User com Team ID Válido\n",
    "\n",
    "Use esta célula para atualizar o `team_id` do mock user para um valor válido do banco de dados."
   ]
  },
  {
   "cell_type": "code",
   "execution_count": 16,
   "metadata": {},
   "outputs": [
    {
     "ename": "NameError",
     "evalue": "name 'valid_teams' is not defined",
     "output_type": "error",
     "traceback": [
      "\u001b[0;31m---------------------------------------------------------------------------\u001b[0m",
      "\u001b[0;31mNameError\u001b[0m                                 Traceback (most recent call last)",
      "Cell \u001b[0;32mIn[16], line 5\u001b[0m\n\u001b[1;32m      1\u001b[0m \u001b[38;5;66;03m# Atualize o MOCK_CONFIG com um team_id válido\u001b[39;00m\n\u001b[1;32m      2\u001b[0m \u001b[38;5;66;03m# Você pode selecionar um dos IDs listados acima\u001b[39;00m\n\u001b[1;32m      3\u001b[0m \n\u001b[1;32m      4\u001b[0m \u001b[38;5;66;03m# Por exemplo, se o primeiro time da lista for válido:\u001b[39;00m\n\u001b[0;32m----> 5\u001b[0m \u001b[38;5;28;01mif\u001b[39;00m \u001b[43mvalid_teams\u001b[49m:\n\u001b[1;32m      6\u001b[0m     MOCK_CONFIG[\u001b[38;5;124m'\u001b[39m\u001b[38;5;124mteam_id\u001b[39m\u001b[38;5;124m'\u001b[39m] \u001b[38;5;241m=\u001b[39m valid_teams[\u001b[38;5;241m0\u001b[39m][\u001b[38;5;124m'\u001b[39m\u001b[38;5;124mid\u001b[39m\u001b[38;5;124m'\u001b[39m]\n\u001b[1;32m      7\u001b[0m     \u001b[38;5;28mprint\u001b[39m(\u001b[38;5;124mf\u001b[39m\u001b[38;5;124m\"\u001b[39m\u001b[38;5;124mMOCK_CONFIG atualizado com team_id: \u001b[39m\u001b[38;5;132;01m{\u001b[39;00mMOCK_CONFIG[\u001b[38;5;124m'\u001b[39m\u001b[38;5;124mteam_id\u001b[39m\u001b[38;5;124m'\u001b[39m]\u001b[38;5;132;01m}\u001b[39;00m\u001b[38;5;124m\"\u001b[39m)\n",
      "\u001b[0;31mNameError\u001b[0m: name 'valid_teams' is not defined"
     ]
    }
   ],
   "source": [
    "# Atualize o MOCK_CONFIG com um team_id válido\n",
    "# Você pode selecionar um dos IDs listados acima\n",
    "\n",
    "# Por exemplo, se o primeiro time da lista for válido:\n",
    "if valid_teams:\n",
    "    MOCK_CONFIG['team_id'] = valid_teams[0]['id']\n",
    "    print(f\"MOCK_CONFIG atualizado com team_id: {MOCK_CONFIG['team_id']}\")\n",
    "else:\n",
    "    print(\"AVISO: Não foram encontradas equipes válidas. Configure o team_id manualmente.\")\n",
    "    # Você pode definir manualmente um team_id conhecido:\n",
    "    # MOCK_CONFIG['team_id'] = \"11111111-1111-1111-1111-111111111111\"\n",
    "\n",
    "# Exibir configuração atual\n",
    "print(\"\\nConfiguração atual do mock user:\")\n",
    "print(json.dumps(MOCK_CONFIG, indent=2))"
   ]
  },
  {
   "cell_type": "markdown",
   "metadata": {},
   "source": [
    "## 7. Testar Upload de Imagem com Mock User"
   ]
  },
  {
   "cell_type": "code",
   "execution_count": 18,
   "metadata": {},
   "outputs": [
    {
     "name": "stdout",
     "output_type": "stream",
     "text": [
      "Fazendo upload de imagem vermelha...\n",
      "Requisição: POST http://localhost:8080/api/v1/images\n",
      "Usando mock user: daniel.schulz_computer_vision_team (Team ID: 2e07cc40-68e2-40cc-b686-cb05dce6c408)\n",
      "Status: 500\n",
      "Resposta:\n",
      "{\n",
      "  \"detail\": \"Internal server error\"\n",
      "}\n"
     ]
    }
   ],
   "source": [
    "# Fazer upload de uma imagem vermelha\n",
    "print(\"Fazendo upload de imagem vermelha...\")\n",
    "red_result = upload_image_with_mock_user(\"red\", \"Imagem vermelha de teste\", \"vermelho,teste,mock\")"
   ]
  },
  {
   "cell_type": "code",
   "execution_count": null,
   "metadata": {},
   "outputs": [],
   "source": [
    "# Fazer upload de uma imagem verde\n",
    "print(\"Fazendo upload de imagem verde...\")\n",
    "green_result = upload_image_with_mock_user(\"green\", \"Imagem verde de teste\", \"verde,teste,mock\")"
   ]
  },
  {
   "cell_type": "code",
   "execution_count": null,
   "metadata": {},
   "outputs": [],
   "source": [
    "# Fazer upload de uma imagem azul\n",
    "print(\"Fazendo upload de imagem azul...\")\n",
    "blue_result = upload_image_with_mock_user(\"blue\", \"Imagem azul de teste\", \"azul,teste,mock\")"
   ]
  },
  {
   "cell_type": "markdown",
   "metadata": {},
   "source": [
    "## 8. Listar Imagens Carregadas"
   ]
  },
  {
   "cell_type": "code",
   "execution_count": null,
   "metadata": {},
   "outputs": [],
   "source": [
    "# Listar todas as imagens\n",
    "print(\"Listando todas as imagens...\")\n",
    "all_images = make_api_request(\"GET\", \"/api/v1/images\")"
   ]
  },
  {
   "cell_type": "markdown",
   "metadata": {},
   "source": [
    "## 9. Resumo e Próximos Passos\n",
    "\n",
    "Se a solução acima não funcionar, pode ser necessário modificar o arquivo `auth.py` no servidor para aceitar o cabeçalho `X-Mock-User`. Consulte o código de exemplo na seção 4 deste notebook.\n",
    "\n",
    "Outra alternativa é criar um endpoint personalizado no servidor que aceita explicitamente um `user_id` e `team_id` para upload."
   ]
  }
 ],
 "metadata": {
  "kernelspec": {
   "display_name": "Python 3",
   "language": "python",
   "name": "python3"
  },
  "language_info": {
   "codemirror_mode": {
    "name": "ipython",
    "version": 3
   },
   "file_extension": ".py",
   "mimetype": "text/x-python",
   "name": "python",
   "nbconvert_exporter": "python",
   "pygments_lexer": "ipython3",
   "version": "3.10.17"
  }
 },
 "nbformat": 4,
 "nbformat_minor": 4
}
