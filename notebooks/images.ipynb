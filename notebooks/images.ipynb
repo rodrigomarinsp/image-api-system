{
 "cells": [
  {
   "cell_type": "markdown",
   "metadata": {},
   "source": [
    "# Image Management API - Test with Custom Mock User\n",
    "\n",
    "This notebook allows testing the image API with a custom mock user, resolving referential integrity issues related to team_id."
   ]
  },
  {
   "cell_type": "code",
   "execution_count": 12,
   "metadata": {},
   "outputs": [],
   "source": [
    "\n",
    "\n",
    "\n",
    "\n",
    "# Import necessary libraries\n",
    "import requests\n",
    "import json\n",
    "import uuid\n",
    "import io\n",
    "import os\n",
    "from IPython.display import display, HTML\n",
    "from PIL import Image as PILImage\n",
    "import base64\n",
    "import re"
   ]
  },
  {
   "cell_type": "code",
   "execution_count": null,
   "metadata": {},
   "outputs": [],
   "source": []
  },
  {
   "cell_type": "code",
   "execution_count": 13,
   "metadata": {},
   "outputs": [],
   "source": [
    "# API base configuration\n",
    "BASE_URL = \"http://localhost:8080\"  # Adjust as needed\n",
    "API_KEY = \"imapi_demo_key_for_testing_purposes_only\"  # Adjust as needed\n",
    "\n",
    "# Configuration to replace the mock user\n",
    "# IMPORTANT: Replace this team_id with one that exists in the database!\n",
    "MOCK_CONFIG = {\n",
    "    \"username\": \"daniel.schulz_computer_vision_team\",\n",
    "    \"email\": \"daniel.schulz_computer_vision_team@sereact-ai.com\",\n",
    "    \"team_id\": \"2e07cc40-68e2-40cc-b686-cb05dce6c408\",\n",
    "    \"id\": \"37c9e956-3105-4846-bc81-261eb6094d2c\",\n",
    "    \"created_at\": \"2025-05-30T20:27:00.608435+00:00\",\n",
    "}"
   ]
  },
  {
   "cell_type": "code",
   "execution_count": null,
   "metadata": {},
   "outputs": [],
   "source": []
  },
  {
   "cell_type": "markdown",
   "metadata": {},
   "source": [
    "## 3. Support Functions for API Calls"
   ]
  },
  {
   "cell_type": "code",
   "execution_count": 14,
   "metadata": {},
   "outputs": [],
   "source": [
    "def make_api_request(method, endpoint, headers=None, params=None, json_data=None, files=None, data=None):\n",
    "    \"\"\"Base function to make API requests, applying the mock user\"\"\"\n",
    "    url = f\"{BASE_URL}{endpoint}\"\n",
    "    \n",
    "    # Prepare headers with authentication and x-mock-user\n",
    "    if headers is None:\n",
    "        headers = {}\n",
    "    \n",
    "    # Add API key if not present\n",
    "    if \"Authorization\" not in headers:\n",
    "        headers[\"Authorization\"] = API_KEY\n",
    "    \n",
    "    # Add mock user configuration\n",
    "    mock_header = base64.b64encode(json.dumps(MOCK_CONFIG).encode()).decode()\n",
    "    headers[\"X-Mock-User\"] = mock_header\n",
    "    \n",
    "    # If we're sending form data, explicitly add team_id\n",
    "    if data is None:\n",
    "        data = {}\n",
    "    \n",
    "    # Explicitly add team_id to the data\n",
    "    data[\"team_id\"] = MOCK_CONFIG[\"team_id\"]\n",
    "    \n",
    "    print(f\"Request: {method} {url}\")\n",
    "    print(f\"Using mock user: {MOCK_CONFIG['username']} (Team ID: {MOCK_CONFIG['team_id']})\")\n",
    "    \n",
    "    # Make the request\n",
    "    response = requests.request(\n",
    "        method=method,\n",
    "        url=url,\n",
    "        headers=headers,\n",
    "        params=params,\n",
    "        json=json_data,\n",
    "        files=files,\n",
    "        data=data\n",
    "    )\n",
    "    \n",
    "    print(f\"Status: {response.status_code}\")\n",
    "    \n",
    "    # Try to parse the response as JSON\n",
    "    try:\n",
    "        result = response.json()\n",
    "        print(\"Response:\")\n",
    "        print(json.dumps(result, indent=2)[:500])\n",
    "        if len(json.dumps(result, indent=2)) > 500:\n",
    "            print(\"... (truncated)\")\n",
    "        return result\n",
    "    except:\n",
    "        # Not JSON, return the text\n",
    "        print(f\"Response (not JSON):\\n{response.text[:200]}\")\n",
    "        if len(response.text) > 200:\n",
    "            print(\"... (truncated)\")\n",
    "        return response.text"
   ]
  },
  {
   "cell_type": "markdown",
   "metadata": {},
   "source": [
    "## 5. Create Image Upload Function with Mock User"
   ]
  },
  {
   "cell_type": "code",
   "execution_count": 17,
   "metadata": {},
   "outputs": [],
   "source": [
    "def create_test_image(color, width=300, height=200):\n",
    "    \"\"\"Creates a test image with solid color\"\"\"\n",
    "    if color == \"red\":\n",
    "        rgb = (255, 0, 0)\n",
    "    elif color == \"green\":\n",
    "        rgb = (0, 255, 0)\n",
    "    elif color == \"blue\":\n",
    "        rgb = (0, 0, 255)\n",
    "    else:\n",
    "        rgb = (128, 128, 128)  # gray\n",
    "    \n",
    "    # Create image\n",
    "    img = PILImage.new('RGB', (width, height), rgb)\n",
    "    img_byte_arr = io.BytesIO()\n",
    "    img.save(img_byte_arr, format='JPEG')\n",
    "    img_byte_arr.seek(0)\n",
    "    return img_byte_arr\n",
    "\n",
    "def upload_image_with_mock_user(color=\"red\", description=\"Test image\", tags=\"test,mock,user\"):\n",
    "    \"\"\"Uploads an image using the configured mock user\"\"\"\n",
    "    # Create test image\n",
    "    img_bytes = create_test_image(color)\n",
    "    \n",
    "    # Prepare file for upload\n",
    "    files = {\n",
    "        'file': (f\"{color}_test.jpg\", img_bytes.getvalue(), 'image/jpeg')\n",
    "    }\n",
    "    \n",
    "    # Form data\n",
    "    data = {\n",
    "        'description': description,\n",
    "        'tags': tags,\n",
    "        'alt_text': f\"A test image {color}\",\n",
    "        'team_id': MOCK_CONFIG['team_id']  # Important: explicitly include team_id\n",
    "    }\n",
    "    \n",
    "    # Perform upload\n",
    "    result = make_api_request(\"POST\", \"/api/v1/images\", files=files, data=data)\n",
    "    \n",
    "    # Display the image if there's an access URL\n",
    "    if isinstance(result, dict) and \"access_url\" in result:\n",
    "        print(\"\\nImage:\")\n",
    "        display(HTML(f'<img src=\"{result[\"access_url\"]}\" width=\"300\" />'))\n",
    "    \n",
    "    return result"
   ]
  },
  {
   "cell_type": "markdown",
   "metadata": {},
   "source": [
    "## 6. Update Mock User Configuration with Valid Team ID\n",
    "\n",
    "Use this cell to update the mock user's `team_id` to a valid value from the database."
   ]
  },
  {
   "cell_type": "code",
   "execution_count": 16,
   "metadata": {},
   "outputs": [
    {
     "ename": "NameError",
     "evalue": "name 'valid_teams' is not defined",
     "output_type": "error",
     "traceback": [
      "\u001b[0;31m---------------------------------------------------------------------------\u001b[0m",
      "\u001b[0;31mNameError\u001b[0m                                 Traceback (most recent call last)",
      "Cell \u001b[0;32mIn[16], line 5\u001b[0m\n\u001b[1;32m      1\u001b[0m \u001b[38;5;66;03m# Update MOCK_CONFIG with a valid team_id\u001b[39;00m\n\u001b[1;32m      2\u001b[0m \u001b[38;5;66;03m# You can select one of the IDs listed above\u001b[39;00m\n\u001b[1;32m      3\u001b[0m \n\u001b[1;32m      4\u001b[0m \u001b[38;5;66;03m# For example, if the first team in the list is valid:\u001b[39;00m\n\u001b[0;32m----> 5\u001b[0m \u001b[38;5;28;01mif\u001b[39;00m \u001b[43mvalid_teams\u001b[49m:\n\u001b[1;32m      6\u001b[0m     MOCK_CONFIG[\u001b[38;5;124m'\u001b[39m\u001b[38;5;124mteam_id\u001b[39m\u001b[38;5;124m'\u001b[39m] \u001b[38;5;241m=\u001b[39m valid_teams[\u001b[38;5;241m0\u001b[39m][\u001b[38;5;124m'\u001b[39m\u001b[38;5;124mid\u001b[39m\u001b[38;5;124m'\u001b[39m]\n\u001b[1;32m      7\u001b[0m     \u001b[38;5;28mprint\u001b[39m(\u001b[38;5;124mf\u001b[39m\u001b[38;5;124m\"\u001b[39m\u001b[38;5;124mMOCK_CONFIG updated with team_id: \u001b[39m\u001b[38;5;132;01m{\u001b[39;00mMOCK_CONFIG[\u001b[38;5;124m'\u001b[39m\u001b[38;5;124mteam_id\u001b[39m\u001b[38;5;124m'\u001b[39m]\u001b[38;5;132;01m}\u001b[39;00m\u001b[38;5;124m\"\u001b[39m)\n",
      "\u001b[0;31mNameError\u001b[0m: name 'valid_teams' is not defined"
     ]
    }
   ],
   "source": [
    "# Update MOCK_CONFIG with a valid team_id\n",
    "# You can select one of the IDs listed above\n",
    "\n",
    "# For example, if the first team in the list is valid:\n",
    "if valid_teams:\n",
    "    MOCK_CONFIG['team_id'] = valid_teams[0]['id']\n",
    "    print(f\"MOCK_CONFIG updated with team_id: {MOCK_CONFIG['team_id']}\")\n",
    "else:\n",
    "    print(\"WARNING: No valid teams found. Configure the team_id manually.\")\n",
    "    # You can manually set a known team_id:\n",
    "    # MOCK_CONFIG['team_id'] = \"11111111-1111-1111-1111-111111111111\"\n",
    "\n",
    "# Display current configuration\n",
    "print(\"\\nCurrent mock user configuration:\")\n",
    "print(json.dumps(MOCK_CONFIG, indent=2))"
   ]
  },
  {
   "cell_type": "markdown",
   "metadata": {},
   "source": [
    "## 7. Test Image Upload with Mock User"
   ]
  },
  {
   "cell_type": "code",
   "execution_count": 18,
   "metadata": {},
   "outputs": [
    {
     "name": "stdout",
     "output_type": "stream",
     "text": [
      "Uploading red image...\n",
      "Request: POST http://localhost:8080/api/v1/images\n",
      "Using mock user: daniel.schulz_computer_vision_team (Team ID: 2e07cc40-68e2-40cc-b686-cb05dce6c408)\n",
      "Status: 500\n",
      "Response:\n",
      "{\n",
      "  \"detail\": \"Internal server error\"\n",
      "}\n"
     ]
    }
   ],
   "source": [
    "# Upload a red image\n",
    "print(\"Uploading red image...\")\n",
    "red_result = upload_image_with_mock_user(\"red\", \"Red test image\", \"red,test,mock\")"
   ]
  },
  {
   "cell_type": "code",
   "execution_count": null,
   "metadata": {},
   "outputs": [],
   "source": [
    "# Upload a green image\n",
    "print(\"Uploading green image...\")\n",
    "green_result = upload_image_with_mock_user(\"green\", \"Green test image\", \"green,test,mock\")"
   ]
  },
  {
   "cell_type": "code",
   "execution_count": null,
   "metadata": {},
   "outputs": [],
   "source": [
    "# Upload a blue image\n",
    "print(\"Uploading blue image...\")\n",
    "blue_result = upload_image_with_mock_user(\"blue\", \"Blue test image\", \"blue,test,mock\")"
   ]
  },
  {
   "cell_type": "markdown",
   "metadata": {},
   "source": [
    "## 8. List Uploaded Images"
   ]
  },
  {
   "cell_type": "code",
   "execution_count": null,
   "metadata": {},
   "outputs": [],
   "source": [
    "# List all images\n",
    "print(\"Listing all images...\")\n",
    "all_images = make_api_request(\"GET\", \"/api/v1/images\")"
   ]
  },
  {
   "cell_type": "markdown",
   "metadata": {},
   "source": [
    "## 9. Summary and Next Steps\n",
    "\n",
    "If the solution above doesn't work, it may be necessary to modify the `auth.py` file on the server to accept the `X-Mock-User` header. Refer to the example code in section 4 of this notebook.\n",
    "\n",
    "Another alternative is to create a custom endpoint on the server that explicitly accepts a `user_id` and `team_id` for upload."
   ]
  }
 ],
 "metadata": {
  "kernelspec": {
   "display_name": "Python 3",
   "language": "python",
   "name": "python3"
  },
  "language_info": {
   "codemirror_mode": {
    "name": "ipython",
    "version": 3
   },
   "file_extension": ".py",
   "mimetype": "text/x-python",
   "name": "python",
   "nbconvert_exporter": "python",
   "pygments_lexer": "ipython3",
   "version": "3.10.17"
  }
 },
 "nbformat": 4,
 "nbformat_minor": 4
}
